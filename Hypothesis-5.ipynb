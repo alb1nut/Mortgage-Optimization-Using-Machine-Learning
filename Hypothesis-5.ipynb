{
 "cells": [
  {
   "cell_type": "code",
   "execution_count": 5,
   "id": "3ca0a7c2-4332-4282-a0b0-f5bd9363a13f",
   "metadata": {
    "tags": []
   },
   "outputs": [],
   "source": [
    "import pandas as pd\n",
    "import numpy as np\n",
    "\n",
    "%matplotlib inline\n",
    "\n",
    "pd.set_option('mode.chained_assignment', None)\n",
    "pd.options.display.max_rows = 100"
   ]
  },
  {
   "cell_type": "code",
   "execution_count": 6,
   "id": "60013ea9-37a1-4a5e-a2a7-f11907db9cc4",
   "metadata": {
    "tags": []
   },
   "outputs": [],
   "source": [
    "from sklearn.metrics import mean_squared_log_error\n",
    "from sklearn.metrics import roc_auc_score\n",
    "from sklearn.metrics import mean_absolute_percentage_error\n",
    "\n",
    "\n",
    "def calc_all_metrics(data, max_account=25e3):\n",
    "    \n",
    "    def is_credit_issued(x):\n",
    "        ratio = x['__price_predict'] / x['__price_doc']\n",
    "        if x['__priority'] <= 0:\n",
    "            value = 0.  \n",
    "        elif ratio > 0.9 and ratio < 1.:\n",
    "            value = x['__price_predict']\n",
    "        elif ratio >= 1. and ratio < 1.1:\n",
    "            value = x['__price_doc']\n",
    "        else:\n",
    "            value = 0.\n",
    "\n",
    "        return value\n",
    "\n",
    "    def calc_profit(x):\n",
    "        if x['is_credit'] == 0.:\n",
    "            return 0.\n",
    "        elif x['__churn'] == 1:\n",
    "            return - x['debt'] * 2.\n",
    "        elif x['debt'] < 5:\n",
    "            return x['debt'] * 0.3\n",
    "        elif x['debt'] < 9:\n",
    "            return x['debt'] * 0.4\n",
    "        elif x['debt'] >= 9:\n",
    "            return x['debt'] * 0.5\n",
    "\n",
    "    s = (\n",
    "        data\n",
    "        [['__priority', '__churn', '__churn_prob', '__price_doc', '__price_predict']]\n",
    "        .sort_values('__priority', ascending=False)\n",
    "        .copy(True)\n",
    "    )\n",
    "    \n",
    "    s['debt'] = s.apply(is_credit_issued, axis=1)\n",
    "    s['debt_cum'] = s['debt'].cumsum()\n",
    "    s['is_credit'] = 0\n",
    "    s.loc[(s['debt'] > 0) & (s['debt_cum'] <= max_account), 'is_credit'] = 1\n",
    "    s['profit'] = s.apply(calc_profit, axis=1)\n",
    "    \n",
    "    total_profit = round(s['profit'].sum(), 2)\n",
    "    good_credits_count = s['is_credit'].sum()\n",
    "    good_credits_debt = round(s[s['is_credit'] == 1]['debt'].sum(), 2)\n",
    "    bad_credits_count = s[s['is_credit'] == 1]['__churn'].sum()\n",
    "    bad_credits_losses = s[(s['is_credit'] == 1) & (s['__churn'] == 1)]['debt'].sum()\n",
    "    \n",
    "    return {\n",
    "        'total_profit': total_profit,\n",
    "        '%profit_issued': round(total_profit / good_credits_debt * 100, 1),\n",
    "        '%issued_loans': round(good_credits_debt / max_account * 100, 2),\n",
    "        'issued_loans': good_credits_debt,\n",
    "        'count_good': good_credits_count,\n",
    "        'count_bad': bad_credits_count,\n",
    "        '%bad': round(bad_credits_count / (good_credits_count + bad_credits_count) * 100., 1),\n",
    "        'churn_auc': round(roc_auc_score(y_true=s['__churn'], y_score=s['__churn_prob']), 3),\n",
    "        'price_nmsle': round(-mean_squared_log_error(y_true=s['__price_doc'], y_pred=s['__price_predict']), 3),\n",
    "        'price_mape': round(-mean_absolute_percentage_error(y_true=s['__price_doc'], y_pred=s['__price_predict']), 3),\n",
    "    }\n"
   ]
  },
  {
   "cell_type": "code",
   "execution_count": 7,
   "id": "0b470416-cbcf-467d-8229-787620507789",
   "metadata": {
    "tags": []
   },
   "outputs": [
    {
     "name": "stdout",
     "output_type": "stream",
     "text": [
      "(20483, 82) (9988, 86)\n"
     ]
    }
   ],
   "source": [
    "train_raw = pd.read_csv('raw_train.csv')\n",
    "submission = pd.read_csv('raw_test.csv')\n",
    "\n",
    "print(train_raw.shape, submission.shape)"
   ]
  },
  {
   "cell_type": "code",
   "execution_count": 8,
   "id": "57420274",
   "metadata": {},
   "outputs": [
    {
     "name": "stdout",
     "output_type": "stream",
     "text": [
      "['max_floor', 'state', 'marital_status', 'big_market_raion', 'total_revolving_bal', 'market_count_1500', 'leisure_count_3000', 'total_ct_chng_q4_q1', 'water_1line', 'railroad_station_walk_km', 'culture_objects_top_25', 'contacts_count_12_mon', '0_17_all', 'trc_count_2000', 'product_type', 'build_count_wood', 'credit_limit', 'total_trans_ct', 'leisure_count_5000', 'life_sq', 'cafe_count_1000_price_1000', 'mkad_km', 'school_education_centers_top_20_raion', 'big_road1_1line', 'card_category', 'avg_utilization_ratio', 'public_transport_station_min_walk', 'income_category', 'customer_age', 'thermal_power_plant_raion', 'radiation_raion', 'detention_facility_km', 'sport_count_2000', 'cafe_sum_1000_min_price_avg', 'total_amt_chng_q4_q1', 'ecology', 'metro_km_walk', 'office_sqm_5000', 'gender', 'oil_chemistry_raion', 'nuclear_reactor_raion', 'total_trans_amt', 'months_inactive_12_mon', 'cafe_sum_1500_min_price_avg', 'railroad_1line', 'floor', 'num_room', 'timestamp', 'education_level', 'months_on_book', 'dependent_count', 'avg_open_to_buy', 'build_year', 'incineration_raion', 'full_sq', 'total_relationship_count', 'detention_facility_raion', 'build_count_mix', 'railroad_terminal_raion', '__churn', '__price_doc', 'f_marital_status', 'f_total_revolving_bal', 'f_market_count_1500', 'f_total_ct_chng_q4_q1', 'f_product_type', 'f_total_trans_ct', 'f_cafe_count_1000_price_1000', 'f_card_category', 'f_avg_utilization_ratio', 'f_income_category', 'f_customer_age', 'f_radiation_raion', 'f_detention_facility_km', 'f_total_amt_chng_q4_q1', 'f_ecology', 'f_gender', 'f_months_inactive_12_mon', 'f_education_level', 'f_dependent_count', 'f_avg_open_to_buy', 'f_total_relationship_count']\n"
     ]
    }
   ],
   "source": [
    "# Explore the dataset\n",
    "print(train_raw.columns.tolist())\n"
   ]
  },
  {
   "cell_type": "code",
   "execution_count": 9,
   "id": "a461e771",
   "metadata": {},
   "outputs": [
    {
     "name": "stdout",
     "output_type": "stream",
     "text": [
      "['max_floor', 'state', 'marital_status', 'big_market_raion', 'total_revolving_bal', 'market_count_1500', 'leisure_count_3000', 'total_ct_chng_q4_q1', 'water_1line', 'railroad_station_walk_km', 'culture_objects_top_25', 'contacts_count_12_mon', '0_17_all', 'trc_count_2000', 'product_type', 'build_count_wood', 'credit_limit', 'total_trans_ct', 'leisure_count_5000', 'life_sq', 'cafe_count_1000_price_1000', 'mkad_km', 'school_education_centers_top_20_raion', 'big_road1_1line', 'card_category', 'avg_utilization_ratio', 'public_transport_station_min_walk', 'income_category', 'customer_age', 'thermal_power_plant_raion', 'radiation_raion', 'detention_facility_km', 'sport_count_2000', 'cafe_sum_1000_min_price_avg', 'total_amt_chng_q4_q1', 'ecology', 'metro_km_walk', 'office_sqm_5000', 'gender', 'oil_chemistry_raion', 'nuclear_reactor_raion', 'total_trans_amt', 'months_inactive_12_mon', 'cafe_sum_1500_min_price_avg', 'railroad_1line', 'floor', 'num_room', 'timestamp', 'education_level', 'months_on_book', 'dependent_count', 'avg_open_to_buy', 'build_year', 'incineration_raion', 'full_sq', 'total_relationship_count', 'detention_facility_raion', 'build_count_mix', 'railroad_terminal_raion', '__price_predict', '__churn_prob', '__priority', 'f_max_floor', 'f_marital_status', 'f_total_revolving_bal', 'f_market_count_1500', 'f_total_ct_chng_q4_q1', 'f_product_type', 'f_total_trans_ct', 'f_cafe_count_1000_price_1000', 'f_card_category', 'f_avg_utilization_ratio', 'f_income_category', 'f_customer_age', 'f_radiation_raion', 'f_detention_facility_km', 'f_total_amt_chng_q4_q1', 'f_ecology', 'f_gender', 'f_months_inactive_12_mon', 'f_floor', 'f_num_room', 'f_education_level', 'f_dependent_count', 'f_avg_open_to_buy', 'f_total_relationship_count']\n"
     ]
    }
   ],
   "source": [
    "# Explore the dataset\n",
    "print(submission.columns.tolist())"
   ]
  },
  {
   "cell_type": "code",
   "execution_count": null,
   "id": "866323f1",
   "metadata": {},
   "outputs": [],
   "source": []
  },
  {
   "cell_type": "markdown",
   "id": "89db361f-7270-4008-80f7-82f527027b89",
   "metadata": {},
   "source": [
    "# 1. Fill your top features"
   ]
  },
  {
   "cell_type": "code",
   "execution_count": 82,
   "id": "3ce77bf3-147d-41a1-ae75-4acb24b25f24",
   "metadata": {
    "tags": []
   },
   "outputs": [
    {
     "name": "stdout",
     "output_type": "stream",
     "text": [
      "8 ['full_sq', 'sport_count_2000', 'office_sqm_5000', 'mkad_km', 'detention_facility_km', 'leisure_count_3000', 'state', 'leisure_count_5000']\n",
      "11 ['contacts_count_12_mon', 'total_ct_chng_q4_q1', 'total_trans_ct', 'total_relationship_count', 'months_inactive_12_mon', 'total_revolving_bal', 'total_amt_chng_q4_q1', 'avg_utilization_ratio', 'avg_open_to_buy', 'credit_limit', 'f_total_ct_chng_q4_q1']\n"
     ]
    }
   ],
   "source": [
    "reg_features = ['full_sq', 'sport_count_2000', 'office_sqm_5000', 'mkad_km', 'detention_facility_km', 'leisure_count_3000','state','leisure_count_5000'] # your top features for regression model\n",
    "clf_features = ['contacts_count_12_mon', 'total_ct_chng_q4_q1', 'total_trans_ct', 'total_relationship_count', 'months_inactive_12_mon','total_revolving_bal','total_amt_chng_q4_q1','avg_utilization_ratio','avg_open_to_buy','credit_limit','f_total_ct_chng_q4_q1'] # your top features for classification model\n",
    "\n",
    "print(len(reg_features), reg_features)\n",
    "print(len(clf_features), clf_features)"
   ]
  },
  {
   "cell_type": "code",
   "execution_count": 83,
   "id": "33486bb5",
   "metadata": {},
   "outputs": [],
   "source": [
    "\n",
    "X = train_raw.fillna(0).copy(True)\n",
    "X_sub = submission.fillna(0).copy(True)"
   ]
  },
  {
   "cell_type": "markdown",
   "id": "f0c086e5-c749-435e-9fd5-19c46e7b1fef",
   "metadata": {},
   "source": [
    "# 2. Fill your best models and improve alg1"
   ]
  },
  {
   "cell_type": "code",
   "execution_count": 103,
   "id": "14560477-31e8-4837-b575-732a368adf78",
   "metadata": {},
   "outputs": [],
   "source": [
    "from sklearn.ensemble import RandomForestRegressor, RandomForestClassifier\n",
    "from sklearn.metrics import roc_auc_score\n",
    "from sklearn.ensemble import GradientBoostingRegressor, GradientBoostingClassifier\n",
    "\n",
    "\n",
    "def alg1(x, threshold=0.10):\n",
    "    \"\"\"\n",
    "    Threshold-based algorithm to significantly reduce the percentage of bad loans\n",
    "    \"\"\"\n",
    "    \n",
    "    if x['__churn_prob'] > threshold:\n",
    "        return 0\n",
    "    return x['__price_predict'] * (1 - x['__churn_prob']) * (1 + x['__price_predict'] / 100)\n",
    "\n",
    "reg = GradientBoostingRegressor(max_depth=20, random_state=47)\n",
    "clf = GradientBoostingClassifier(n_estimators=200, random_state=47)"
   ]
  },
  {
   "cell_type": "code",
   "execution_count": 104,
   "id": "be3b7530-164d-4796-b668-a2a076195afb",
   "metadata": {
    "tags": []
   },
   "outputs": [],
   "source": [
    "from sklearn.model_selection import cross_val_predict\n",
    "\n",
    "\n",
    "X = train_raw.fillna(0).copy(True)\n",
    "X_sub = submission.fillna(0).copy(True)\n",
    "\n",
    "train_raw['__price_predict'] = cross_val_predict(\n",
    "    estimator=reg,\n",
    "    X=X[reg_features],\n",
    "    y=train_raw['__price_doc'],\n",
    "    cv=5,\n",
    "    method='predict')\n",
    "train_raw['__price_predict'] = np.maximum(0, train_raw['__price_predict'])\n",
    "\n",
    "train_raw['__churn_prob'] = cross_val_predict(\n",
    "    estimator=clf,\n",
    "    X=X[clf_features],\n",
    "    y=train_raw['__churn'],\n",
    "    cv=5,\n",
    "    method='predict_proba')[:, 1]\n",
    "\n",
    "train_raw['__priority'] = train_raw.apply(alg1, axis=1)"
   ]
  },
  {
   "cell_type": "code",
   "execution_count": null,
   "id": "734bb66c",
   "metadata": {},
   "outputs": [],
   "source": [
    "##submission"
   ]
  },
  {
   "cell_type": "code",
   "execution_count": null,
   "id": "39fc14cd",
   "metadata": {},
   "outputs": [],
   "source": []
  },
  {
   "cell_type": "markdown",
   "id": "410ce179-a18d-4d5c-b5d2-511721fdb4ef",
   "metadata": {},
   "source": [
    "# 3. Calculate quality metrics"
   ]
  },
  {
   "cell_type": "code",
   "execution_count": 105,
   "id": "e09f3675-0537-483f-bbc6-adf4f15a2e4a",
   "metadata": {
    "tags": []
   },
   "outputs": [
    {
     "name": "stdout",
     "output_type": "stream",
     "text": [
      "                    test1      test2\n",
      "total_profit     7925.770   7851.150\n",
      "%profit_issued     37.400     36.800\n",
      "%issued_loans      84.720     85.360\n",
      "issued_loans    21179.510  21339.190\n",
      "count_good       3357.000   3366.000\n",
      "count_bad          43.000     48.000\n",
      "%bad                1.300      1.400\n",
      "churn_auc           0.967      0.966\n",
      "price_nmsle        -0.186     -0.197\n",
      "price_mape         -0.490     -0.523\n"
     ]
    }
   ],
   "source": [
    "from sklearn.model_selection import train_test_split\n",
    "\n",
    "complex_stratify = (\n",
    "    pd.qcut(train_raw['__price_doc'], q=10).astype(str)\n",
    "    + train_raw['__churn'].astype(str))\n",
    "\n",
    "# Split data and calculate metrics\n",
    "test1, test2 = train_test_split(train_raw, test_size=0.5, stratify=complex_stratify, random_state=47)\n",
    "\n",
    "metrics = pd.DataFrame(data=[calc_all_metrics(test1), calc_all_metrics(test2)], index=['test1', 'test2']).T\n",
    "print(metrics)\n"
   ]
  },
  {
   "cell_type": "code",
   "execution_count": 61,
   "id": "e81da195",
   "metadata": {},
   "outputs": [],
   "source": [
    "#submission"
   ]
  },
  {
   "cell_type": "code",
   "execution_count": null,
   "id": "ae238f42",
   "metadata": {},
   "outputs": [],
   "source": []
  },
  {
   "cell_type": "code",
   "execution_count": null,
   "id": "a222487e",
   "metadata": {},
   "outputs": [],
   "source": []
  },
  {
   "cell_type": "code",
   "execution_count": null,
   "id": "186377df",
   "metadata": {},
   "outputs": [],
   "source": [
    "churn_auc >= 0.92\n",
    "price_nmsle >= -0.142\n",
    "issue_amount >= 22000\n",
    "total_profit >= 16000\n",
    "%bad_loans <= 1.4\n",
    "\n",
    "\n",
    "//// \n",
    "\n",
    "Minimum requirements\n",
    "- churn_auc >= 0.92\n",
    "- price_nmsle >= -0.142\n",
    "- total_profit >= 4000\n",
    "- %bad_loans <= 1.4\n",
    "\n"
   ]
  },
  {
   "cell_type": "markdown",
   "id": "ad9063e9-9806-4b7e-ae6b-e501f77b9b00",
   "metadata": {},
   "source": [
    "# 4. Prepare submission"
   ]
  },
  {
   "cell_type": "code",
   "execution_count": 106,
   "id": "10c6a6a7-334d-4b74-83be-a8698d1e804e",
   "metadata": {
    "tags": []
   },
   "outputs": [],
   "source": [
    "reg.fit(X[reg_features], train_raw['__price_doc'])\n",
    "submission['__price_predict'] = np.maximum(0, reg.predict(X_sub[reg_features]))\n",
    "\n",
    "clf.fit(X[clf_features], train_raw['__churn'])\n",
    "submission['__churn_prob'] = clf.predict_proba(X_sub[clf_features])[:, 1]\n",
    "submission['__priority'] = submission.apply(alg1, axis=1) # Applied the 'alg1' algorithm"
   ]
  },
  {
   "cell_type": "code",
   "execution_count": 107,
   "id": "9013cfbb-03af-4731-b6d0-8625f5ed938b",
   "metadata": {},
   "outputs": [
    {
     "name": "stdout",
     "output_type": "stream",
     "text": [
      "['__price_predict', '__churn_prob', '__priority']\n",
      "(9988, 3)\n"
     ]
    },
    {
     "data": {
      "text/html": [
       "<div>\n",
       "<style scoped>\n",
       "    .dataframe tbody tr th:only-of-type {\n",
       "        vertical-align: middle;\n",
       "    }\n",
       "\n",
       "    .dataframe tbody tr th {\n",
       "        vertical-align: top;\n",
       "    }\n",
       "\n",
       "    .dataframe thead th {\n",
       "        text-align: right;\n",
       "    }\n",
       "</style>\n",
       "<table border=\"1\" class=\"dataframe\">\n",
       "  <thead>\n",
       "    <tr style=\"text-align: right;\">\n",
       "      <th></th>\n",
       "      <th>__price_predict</th>\n",
       "      <th>__churn_prob</th>\n",
       "      <th>__priority</th>\n",
       "    </tr>\n",
       "  </thead>\n",
       "  <tbody>\n",
       "    <tr>\n",
       "      <th>0</th>\n",
       "      <td>9.747781</td>\n",
       "      <td>0.963040</td>\n",
       "      <td>0.000000</td>\n",
       "    </tr>\n",
       "    <tr>\n",
       "      <th>1</th>\n",
       "      <td>5.256278</td>\n",
       "      <td>0.003944</td>\n",
       "      <td>5.510740</td>\n",
       "    </tr>\n",
       "    <tr>\n",
       "      <th>2</th>\n",
       "      <td>5.928853</td>\n",
       "      <td>0.027174</td>\n",
       "      <td>6.109706</td>\n",
       "    </tr>\n",
       "    <tr>\n",
       "      <th>3</th>\n",
       "      <td>4.104147</td>\n",
       "      <td>0.002241</td>\n",
       "      <td>4.263010</td>\n",
       "    </tr>\n",
       "    <tr>\n",
       "      <th>4</th>\n",
       "      <td>6.727600</td>\n",
       "      <td>0.001202</td>\n",
       "      <td>7.171577</td>\n",
       "    </tr>\n",
       "  </tbody>\n",
       "</table>\n",
       "</div>"
      ],
      "text/plain": [
       "   __price_predict  __churn_prob  __priority\n",
       "0         9.747781      0.963040    0.000000\n",
       "1         5.256278      0.003944    5.510740\n",
       "2         5.928853      0.027174    6.109706\n",
       "3         4.104147      0.002241    4.263010\n",
       "4         6.727600      0.001202    7.171577"
      ]
     },
     "execution_count": 107,
     "metadata": {},
     "output_type": "execute_result"
    }
   ],
   "source": [
    "final_score = submission[['__price_predict', '__churn_prob', '__priority']]\n",
    "print(final_score.columns.tolist())\n",
    "print(final_score.shape)\n",
    "\n",
    "assert final_score.shape == (9988, 3)\n",
    "assert final_score.columns.tolist() == ['__price_predict', '__churn_prob', '__priority']\n",
    "assert final_score['__price_predict'].min() >= 0.\n",
    "assert len(final_score['__churn_prob'].unique()) > 2\n",
    "\n",
    "final_score.to_csv('5-Albert_Dovlo.csv', index=False)\n",
    "final_score.head()"
   ]
  },
  {
   "cell_type": "markdown",
   "id": "98e0ee63-6d15-4623-bcbb-5d133b74017c",
   "metadata": {},
   "source": [
    "# 5. All your experiments going below"
   ]
  },
  {
   "cell_type": "code",
   "execution_count": null,
   "id": "88ea6ae9-128b-41c3-866c-c9c7a6fa0192",
   "metadata": {},
   "outputs": [],
   "source": []
  },
  {
   "cell_type": "code",
   "execution_count": null,
   "id": "f136b071",
   "metadata": {},
   "outputs": [],
   "source": []
  },
  {
   "cell_type": "code",
   "execution_count": null,
   "id": "3b0dd97b",
   "metadata": {},
   "outputs": [],
   "source": []
  },
  {
   "cell_type": "code",
   "execution_count": null,
   "id": "fc6b900e",
   "metadata": {},
   "outputs": [],
   "source": []
  },
  {
   "cell_type": "code",
   "execution_count": null,
   "id": "87acf8b0",
   "metadata": {},
   "outputs": [],
   "source": []
  }
 ],
 "metadata": {
  "kernelspec": {
   "display_name": "Python 3 (ipykernel)",
   "language": "python",
   "name": "python3"
  },
  "language_info": {
   "codemirror_mode": {
    "name": "ipython",
    "version": 3
   },
   "file_extension": ".py",
   "mimetype": "text/x-python",
   "name": "python",
   "nbconvert_exporter": "python",
   "pygments_lexer": "ipython3",
   "version": "3.11.5"
  }
 },
 "nbformat": 4,
 "nbformat_minor": 5
}
